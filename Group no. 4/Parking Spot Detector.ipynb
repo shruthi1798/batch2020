{
 "cells": [
  {
   "cell_type": "code",
   "execution_count": 4,
   "metadata": {},
   "outputs": [],
   "source": [
    "import os\n",
    "import numpy as np\n",
    "import cv2\n",
    "import mrcnn.config\n",
    "import mrcnn.utils\n",
    "from mrcnn.model import MaskRCNN\n",
    "from pathlib import Path\n",
    "import tensorflow as tf\n",
    "\n",
    "class MaskRCNNConfig(mrcnn.config.Config):\n",
    "    NAME = \"coco_pretrained_model_config\"\n",
    "    IMAGES_PER_GPU = 1\n",
    "    GPU_COUNT = 1\n",
    "    NUM_CLASSES = 1 + 80 \n",
    "    DETECTION_MIN_CONFIDENCE = 0.6\n",
    "\n",
    "def get_car_boxes(boxes, class_ids):\n",
    "    car_boxes = []\n",
    "  \n",
    "    for i,box in enumerate(boxes):\n",
    "    \n",
    "        if class_ids[i] in [3,8,6]:\n",
    "            car_boxes.append(box)\n",
    "    \n",
    "    return np.array(car_boxes)\n",
    "  \n",
    "ROOT_DIR = Path(\".\")\n",
    "\n",
    "MODEL_DIR = os.path.join(ROOT_DIR,\"logs\")\n",
    "\n",
    "COCO_MODEL_PATH = os.path.join(ROOT_DIR,\"mask_rcnn_coco.h5\")\n",
    "\n",
    "if not os.path.exists(COCO_MODEL_PATH):\n",
    "    mrcnn.utils.download_trained_weights(COCO_MODEL_PATH)\n",
    "\n",
    "IMAGE_DIR = os.path.join(ROOT_DIR,\"images\")\n",
    "\n",
    "VIDEO_SOURCE = \"test_images/parking1.mp4\"\n",
    "\n",
    "model = MaskRCNN(mode=\"inference\",model_dir=MODEL_DIR,config=MaskRCNNConfig())\n",
    "\n",
    "model.load_weights(COCO_MODEL_PATH, by_name=True)\n",
    "\n"
   ]
  },
  {
   "cell_type": "code",
   "execution_count": 2,
   "metadata": {},
   "outputs": [
    {
     "data": {
      "text/plain": [
       "[_DeviceAttributes(/job:localhost/replica:0/task:0/device:CPU:0, CPU, 268435456, 13640230914573952388),\n",
       " _DeviceAttributes(/job:localhost/replica:0/task:0/device:GPU:0, GPU, 4945621811, 10779363072783740897)]"
      ]
     },
     "execution_count": 2,
     "metadata": {},
     "output_type": "execute_result"
    }
   ],
   "source": [
    "with tf.Session() as sess:\n",
    "    devices = sess.list_devices()\n",
    "devices"
   ]
  },
  {
   "cell_type": "code",
   "execution_count": 5,
   "metadata": {},
   "outputs": [],
   "source": [
    "parked_car_boxes = None\n",
    "\n",
    "video_capture = cv2.VideoCapture(VIDEO_SOURCE)\n",
    "\n",
    "free_space_frames = 0\n",
    "\n",
    "while video_capture.isOpened():\n",
    "    success, frame = video_capture.read()\n",
    "    if not success:\n",
    "        break\n",
    "\n",
    "    rgb_image = frame[:,:,::-1]\n",
    "\n",
    "    results = model.detect([rgb_image],verbose=0)\n",
    "\n",
    "    r = results[0]\n",
    "\n",
    "  \n",
    "    if parked_car_boxes is None:\n",
    "        parked_car_boxes = get_car_boxes(r['rois'], r['class_ids'])\n",
    "    \n",
    "    else:\n",
    "        car_boxes = get_car_boxes(r['rois'], r['class_ids'])\n",
    "        overlaps = mrcnn.utils.compute_overlaps(parked_car_boxes, car_boxes)\n",
    "        free_space = False\n",
    "        for parking_area, overlap_areas in zip(parked_car_boxes, overlaps):\n",
    "            max_IoU_overlap = np.max(overlap_areas)\n",
    "            y1, x1, y2, x2 = parking_area\n",
    "            if max_IoU_overlap < 0.15:\n",
    "                cv2.rectangle(frame, (x1,y1), (x2,y2), (0,255,0), 3)\n",
    "                free_space = True\n",
    "            else:\n",
    "                cv2.rectangle(frame, (x1,y1), (x2,y2), (0,0,255), 1)\n",
    "                font = cv2.FONT_HERSHEY_DUPLEX\n",
    "                cv2.putText(frame,f\"{max_IoU_overlap:0.2}\", (x1+6, y2-6), font, 0.3, (255,255,255))\n",
    "            if free_space:\n",
    "                free_space_frames += 1\n",
    "            else:\n",
    "                free_space_frames = 0\n",
    "            if free_space_frames > 10:\n",
    "                font = cv2.FONT_HERSHEY_DUPLEX\n",
    "                cv2.putText(frame, f\"SPACE AVAILABLE!\", (10,150), font, 3.0, (0,255,0), 2, cv2.FILLED)\n",
    "        cv2.imshow('Video',frame)\n",
    "        if cv2.waitKey(1) & 0xFF == ord('q'):\n",
    "            break\n",
    "video_capture.release()\n",
    "cv2.destroyAllWindows()\n",
    "   "
   ]
  }
 ],
 "metadata": {
  "kernelspec": {
   "display_name": "Python 3",
   "language": "python",
   "name": "python3"
  },
  "language_info": {
   "codemirror_mode": {
    "name": "ipython",
    "version": 3
   },
   "file_extension": ".py",
   "mimetype": "text/x-python",
   "name": "python",
   "nbconvert_exporter": "python",
   "pygments_lexer": "ipython3",
   "version": "3.6.5"
  }
 },
 "nbformat": 4,
 "nbformat_minor": 2
}
